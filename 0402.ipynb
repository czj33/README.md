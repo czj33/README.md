{
 "cells": [
  {
   "cell_type": "code",
   "execution_count": 1,
   "id": "5bdb9671-649e-468e-97bf-a3bdef69a518",
   "metadata": {},
   "outputs": [
    {
     "name": "stdout",
     "output_type": "stream",
     "text": [
      "today's fruit is:peer\n"
     ]
    }
   ],
   "source": [
    "import random\n",
    "\n",
    "fruits=['apple','orange','banana','peer','tomato']\n",
    "cf=random.choice(fruits)\n",
    "\n",
    "print(\"today's fruit is:\" +cf)"
   ]
  },
  {
   "cell_type": "code",
   "execution_count": 3,
   "id": "8dc297bf-e0a2-44ba-8f98-ebf7d03b45d3",
   "metadata": {},
   "outputs": [
    {
     "name": "stdin",
     "output_type": "stream",
     "text": [
      "輸入對策信號綜合分數 23\n"
     ]
    },
    {
     "name": "stdout",
     "output_type": "stream",
     "text": [
      "綠燈\n"
     ]
    }
   ],
   "source": [
    "score = int(input('輸入對策信號綜合分數'))\n",
    "if score>=45 or score<9:\n",
    "    print('錯誤')\n",
    "elif score>=37:\n",
    "    print('紅燈')\n",
    "elif score>=31:\n",
    "    print('紅黃燈')\n",
    "elif score>=22:\n",
    "    print('綠燈')\n",
    "elif score>=16:\n",
    "    print('黃藍燈')\n",
    "elif score>=9:\n",
    "    print('籃燈')"
   ]
  },
  {
   "cell_type": "code",
   "execution_count": 4,
   "id": "eec39484-8c76-44ac-b667-cc5621add25f",
   "metadata": {},
   "outputs": [
    {
     "name": "stdin",
     "output_type": "stream",
     "text": [
      "輸入淨年所得額： 1000000\n"
     ]
    },
    {
     "name": "stdout",
     "output_type": "stream",
     "text": [
      "應繳稅額＝ 83600.0\n"
     ]
    }
   ],
   "source": [
    "l1=520000*0.05\n",
    "l2=(1170000-520000)*0.12\n",
    "l3=(2350000-1170000)*0.2\n",
    "l4=(4400000-2350000)*0.3\n",
    "l5=(10000000-4400000)*0.4\n",
    "income=int(input('輸入淨年所得額：'))\n",
    "\n",
    "if income<=520000:\n",
    "    tax=income*0.05\n",
    "elif income<=1170000:\n",
    "    tax=l1+((income-520000)*0.12)\n",
    "elif income<=2350000:\n",
    "    tax=l1+l2+((income-1170000)*0.2)\n",
    "elif income<=4400000:\n",
    "    tax=l1+l2+l3+((income-2350000)*0.3)\n",
    "elif income<=10000000:\n",
    "    tax=l1+l2+l3+l4+((income-4400000)*0.4)\n",
    "else:\n",
    "    tax=l1+l2+l3+l4+l5+((income-10000000)*0.45)\n",
    "\n",
    "print('應繳稅額＝', tax)\n"
   ]
  },
  {
   "cell_type": "code",
   "execution_count": null,
   "id": "1503a117-97b4-4701-b6c1-adde3b0270b0",
   "metadata": {},
   "outputs": [],
   "source": []
  }
 ],
 "metadata": {
  "kernelspec": {
   "display_name": "Python 3 (ipykernel)",
   "language": "python",
   "name": "python3"
  },
  "language_info": {
   "codemirror_mode": {
    "name": "ipython",
    "version": 3
   },
   "file_extension": ".py",
   "mimetype": "text/x-python",
   "name": "python",
   "nbconvert_exporter": "python",
   "pygments_lexer": "ipython3",
   "version": "3.11.7"
  }
 },
 "nbformat": 4,
 "nbformat_minor": 5
}
